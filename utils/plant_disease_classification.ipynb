{
  "cells": [
    {
      "cell_type": "markdown",
      "metadata": {
        "papermill": {
          "duration": 0.05825,
          "end_time": "2020-12-15T06:52:56.400725",
          "exception": false,
          "start_time": "2020-12-15T06:52:56.342475",
          "status": "completed"
        },
        "tags": [],
        "id": "AoofTJH8aHhg"
      },
      "source": [
        "Loading the data "
      ]
    },
    {
      "cell_type": "code",
      "source": [
        "from google.colab import drive\n",
        "drive.mount('/content/drive')"
      ],
      "metadata": {
        "colab": {
          "base_uri": "https://localhost:8080/"
        },
        "id": "_fT9dm_agYEa",
        "outputId": "c6ee7037-9520-4f09-9640-97a6453144d0"
      },
      "execution_count": 1,
      "outputs": [
        {
          "output_type": "stream",
          "name": "stdout",
          "text": [
            "Mounted at /content/drive\n"
          ]
        }
      ]
    },
    {
      "cell_type": "code",
      "source": [
        "#!unzip -u \"/content/drive/MyDrive/UG Final Year Project/Plant_disease_dataset.zip\" -d \"/content/drive/MyDrive/UG Final Year Project\""
      ],
      "metadata": {
        "id": "bE8rdEZWi93C"
      },
      "execution_count": 2,
      "outputs": []
    },
    {
      "cell_type": "code",
      "source": [
        "import os\n",
        "import pandas as pd\n",
        "import matplotlib.pyplot as plt\n"
      ],
      "metadata": {
        "id": "aVEPzghmS6Wi"
      },
      "execution_count": 3,
      "outputs": []
    },
    {
      "cell_type": "code",
      "execution_count": 4,
      "metadata": {
        "execution": {
          "iopub.execute_input": "2020-12-15T06:52:56.522416Z",
          "iopub.status.busy": "2020-12-15T06:52:56.521802Z",
          "iopub.status.idle": "2020-12-15T06:52:56.536807Z",
          "shell.execute_reply": "2020-12-15T06:52:56.536213Z"
        },
        "papermill": {
          "duration": 0.07813,
          "end_time": "2020-12-15T06:52:56.536899",
          "exception": false,
          "start_time": "2020-12-15T06:52:56.458769",
          "status": "completed"
        },
        "tags": [],
        "id": "QjzPVK0naHhg"
      },
      "outputs": [],
      "source": [
        "data_dir = \"/content/drive/MyDrive/UG Final Year Project/New Plant Diseases Dataset(Augmented)\"\n",
        "train_dir = data_dir + \"/train\"\n",
        "valid_dir = data_dir + \"/valid\"\n",
        "diseases = os.listdir(train_dir)"
      ]
    },
    {
      "cell_type": "code",
      "execution_count": 5,
      "metadata": {
        "execution": {
          "iopub.execute_input": "2020-12-15T06:52:56.660806Z",
          "iopub.status.busy": "2020-12-15T06:52:56.660131Z",
          "iopub.status.idle": "2020-12-15T06:52:56.663554Z",
          "shell.execute_reply": "2020-12-15T06:52:56.664320Z"
        },
        "papermill": {
          "duration": 0.068176,
          "end_time": "2020-12-15T06:52:56.664465",
          "exception": false,
          "start_time": "2020-12-15T06:52:56.596289",
          "status": "completed"
        },
        "tags": [],
        "colab": {
          "base_uri": "https://localhost:8080/"
        },
        "id": "VQYYwGTFaHhg",
        "outputId": "3e5e35e7-b115-47e0-a3c3-8038f5c94478"
      },
      "outputs": [
        {
          "output_type": "stream",
          "name": "stdout",
          "text": [
            "['Grape___Black_rot', 'Grape___Esca_(Black_Measles)', 'Grape___Leaf_blight_(Isariopsis_Leaf_Spot)', 'Grape___healthy', 'Orange___Haunglongbing_(Citrus_greening)', 'Peach___Bacterial_spot', 'Peach___healthy', 'Pepper,_bell___Bacterial_spot', 'Pepper,_bell___healthy', 'Potato___Early_blight', 'Potato___Late_blight', 'Potato___healthy', 'Raspberry___healthy', 'Soybean___healthy', 'Squash___Powdery_mildew', 'Strawberry___Leaf_scorch', 'Strawberry___healthy', 'Tomato___Bacterial_spot', 'Tomato___Early_blight', 'Tomato___Late_blight', 'Tomato___Leaf_Mold', 'Tomato___Septoria_leaf_spot', 'Tomato___Spider_mites Two-spotted_spider_mite', 'Tomato___Target_Spot', 'Tomato___Tomato_Yellow_Leaf_Curl_Virus', 'Tomato___Tomato_mosaic_virus', 'Tomato___healthy', 'Apple___Apple_scab', 'Apple___Black_rot', 'Apple___Cedar_apple_rust', 'Apple___healthy', 'Blueberry___healthy', 'Cherry_(including_sour)___healthy', 'Cherry_(including_sour)___Powdery_mildew', 'Corn_(maize)___Cercospora_leaf_spot Gray_leaf_spot', 'Corn_(maize)___Common_rust_', 'Corn_(maize)___healthy', 'Corn_(maize)___Northern_Leaf_Blight']\n"
          ]
        }
      ],
      "source": [
        "# printing the disease names\n",
        "print(diseases)"
      ]
    },
    {
      "cell_type": "code",
      "source": [
        "import pickle\n",
        "dl='/content/drive/MyDrive/UG Final Year Project/disease_classes.pkl'\n",
        "pickle.dump(diseases, open(dl,'wb'))"
      ],
      "metadata": {
        "id": "LGR3EdOC3P4O"
      },
      "execution_count": 6,
      "outputs": []
    },
    {
      "cell_type": "code",
      "execution_count": 7,
      "metadata": {
        "execution": {
          "iopub.execute_input": "2020-12-15T06:52:56.789812Z",
          "iopub.status.busy": "2020-12-15T06:52:56.789079Z",
          "iopub.status.idle": "2020-12-15T06:52:56.792917Z",
          "shell.execute_reply": "2020-12-15T06:52:56.792464Z"
        },
        "papermill": {
          "duration": 0.068791,
          "end_time": "2020-12-15T06:52:56.793019",
          "exception": false,
          "start_time": "2020-12-15T06:52:56.724228",
          "status": "completed"
        },
        "tags": [],
        "colab": {
          "base_uri": "https://localhost:8080/"
        },
        "id": "uwOEozKhaHhg",
        "outputId": "de9964f8-30f1-430f-baf3-c7a6a5276535"
      },
      "outputs": [
        {
          "output_type": "stream",
          "name": "stdout",
          "text": [
            "Total disease classes are: 38\n"
          ]
        }
      ],
      "source": [
        "print(\"Total disease classes are: {}\".format(len(diseases)))"
      ]
    },
    {
      "cell_type": "code",
      "execution_count": 8,
      "metadata": {
        "execution": {
          "iopub.execute_input": "2020-12-15T06:52:56.922040Z",
          "iopub.status.busy": "2020-12-15T06:52:56.921156Z",
          "iopub.status.idle": "2020-12-15T06:52:56.924421Z",
          "shell.execute_reply": "2020-12-15T06:52:56.923843Z"
        },
        "papermill": {
          "duration": 0.071422,
          "end_time": "2020-12-15T06:52:56.924536",
          "exception": false,
          "start_time": "2020-12-15T06:52:56.853114",
          "status": "completed"
        },
        "tags": [],
        "id": "KGddpz6EaHhh"
      },
      "outputs": [],
      "source": [
        "plants = []\n",
        "NumberOfDiseases = 0\n",
        "for plant in diseases:\n",
        "    if plant.split('___')[0] not in plants:\n",
        "        plants.append(plant.split('___')[0])\n",
        "    if plant.split('___')[1] != 'healthy':\n",
        "        NumberOfDiseases += 1"
      ]
    },
    {
      "cell_type": "code",
      "execution_count": 9,
      "metadata": {
        "execution": {
          "iopub.execute_input": "2020-12-15T06:52:57.183047Z",
          "iopub.status.busy": "2020-12-15T06:52:57.182397Z",
          "iopub.status.idle": "2020-12-15T06:52:57.186314Z",
          "shell.execute_reply": "2020-12-15T06:52:57.185696Z"
        },
        "papermill": {
          "duration": 0.068933,
          "end_time": "2020-12-15T06:52:57.186415",
          "exception": false,
          "start_time": "2020-12-15T06:52:57.117482",
          "status": "completed"
        },
        "tags": [],
        "colab": {
          "base_uri": "https://localhost:8080/"
        },
        "id": "6BI6itS6aHhh",
        "outputId": "6a372955-ffee-4b09-b3cc-1982f79b52c4"
      },
      "outputs": [
        {
          "output_type": "stream",
          "name": "stdout",
          "text": [
            "Unique Plants are: \n",
            "['Grape', 'Orange', 'Peach', 'Pepper,_bell', 'Potato', 'Raspberry', 'Soybean', 'Squash', 'Strawberry', 'Tomato', 'Apple', 'Blueberry', 'Cherry_(including_sour)', 'Corn_(maize)']\n"
          ]
        }
      ],
      "source": [
        "# unique plants in the dataset\n",
        "print(f\"Unique Plants are: \\n{plants}\")"
      ]
    },
    {
      "cell_type": "code",
      "execution_count": 10,
      "metadata": {
        "execution": {
          "iopub.execute_input": "2020-12-15T06:52:57.313744Z",
          "iopub.status.busy": "2020-12-15T06:52:57.313076Z",
          "iopub.status.idle": "2020-12-15T06:52:57.316355Z",
          "shell.execute_reply": "2020-12-15T06:52:57.317088Z"
        },
        "papermill": {
          "duration": 0.069891,
          "end_time": "2020-12-15T06:52:57.317251",
          "exception": false,
          "start_time": "2020-12-15T06:52:57.247360",
          "status": "completed"
        },
        "tags": [],
        "colab": {
          "base_uri": "https://localhost:8080/"
        },
        "id": "AXlicQWtaHhh",
        "outputId": "e021bb1b-547e-4c09-c1b7-08a1d4204f8e"
      },
      "outputs": [
        {
          "output_type": "stream",
          "name": "stdout",
          "text": [
            "Number of plants: 14\n"
          ]
        }
      ],
      "source": [
        "# number of unique plants\n",
        "print(\"Number of plants: {}\".format(len(plants)))"
      ]
    },
    {
      "cell_type": "code",
      "execution_count": 11,
      "metadata": {
        "execution": {
          "iopub.execute_input": "2020-12-15T06:52:57.444856Z",
          "iopub.status.busy": "2020-12-15T06:52:57.444130Z",
          "iopub.status.idle": "2020-12-15T06:52:57.447598Z",
          "shell.execute_reply": "2020-12-15T06:52:57.448386Z"
        },
        "papermill": {
          "duration": 0.069339,
          "end_time": "2020-12-15T06:52:57.448580",
          "exception": false,
          "start_time": "2020-12-15T06:52:57.379241",
          "status": "completed"
        },
        "tags": [],
        "colab": {
          "base_uri": "https://localhost:8080/"
        },
        "id": "XZNBYB6gaHhh",
        "outputId": "2d88ac79-c8f6-4608-a74b-6ae341dd7b0f"
      },
      "outputs": [
        {
          "output_type": "stream",
          "name": "stdout",
          "text": [
            "Number of diseases: 26\n"
          ]
        }
      ],
      "source": [
        "# number of unique diseases\n",
        "print(\"Number of diseases: {}\".format(NumberOfDiseases))"
      ]
    },
    {
      "cell_type": "markdown",
      "metadata": {
        "papermill": {
          "duration": 0.062489,
          "end_time": "2020-12-15T06:52:57.574134",
          "exception": false,
          "start_time": "2020-12-15T06:52:57.511645",
          "status": "completed"
        },
        "tags": [],
        "id": "p2CHeScMaHhi"
      },
      "source": [
        "So we have images of leaves of 14 plants and while excluding healthy leaves, we have 26 types of images that show a particular disease in a particular plant."
      ]
    },
    {
      "cell_type": "code",
      "execution_count": 12,
      "metadata": {
        "execution": {
          "iopub.execute_input": "2020-12-15T06:52:57.704194Z",
          "iopub.status.busy": "2020-12-15T06:52:57.703583Z",
          "iopub.status.idle": "2020-12-15T06:53:03.960106Z",
          "shell.execute_reply": "2020-12-15T06:53:03.960800Z"
        },
        "papermill": {
          "duration": 6.323955,
          "end_time": "2020-12-15T06:53:03.960987",
          "exception": false,
          "start_time": "2020-12-15T06:52:57.637032",
          "status": "completed"
        },
        "tags": [],
        "colab": {
          "base_uri": "https://localhost:8080/",
          "height": 1000
        },
        "id": "Gb6neKGXaHhi",
        "outputId": "5cbea9e2-67db-4129-a5be-7c882da63b6a"
      },
      "outputs": [
        {
          "output_type": "execute_result",
          "data": {
            "text/plain": [
              "                                                    no. of images\n",
              "Grape___Black_rot                                            1888\n",
              "Grape___Esca_(Black_Measles)                                 1920\n",
              "Grape___Leaf_blight_(Isariopsis_Leaf_Spot)                   1722\n",
              "Grape___healthy                                              1692\n",
              "Orange___Haunglongbing_(Citrus_greening)                     2010\n",
              "Peach___Bacterial_spot                                       1838\n",
              "Peach___healthy                                              1728\n",
              "Pepper,_bell___Bacterial_spot                                1913\n",
              "Pepper,_bell___healthy                                       1988\n",
              "Potato___Early_blight                                        1939\n",
              "Potato___Late_blight                                         1939\n",
              "Potato___healthy                                             1824\n",
              "Raspberry___healthy                                          1781\n",
              "Soybean___healthy                                            2022\n",
              "Squash___Powdery_mildew                                      1736\n",
              "Strawberry___Leaf_scorch                                     1774\n",
              "Strawberry___healthy                                         1824\n",
              "Tomato___Bacterial_spot                                      1702\n",
              "Tomato___Early_blight                                        1920\n",
              "Tomato___Late_blight                                         1997\n",
              "Tomato___Leaf_Mold                                           1986\n",
              "Tomato___Septoria_leaf_spot                                  1745\n",
              "Tomato___Spider_mites Two-spotted_spider_mite                1741\n",
              "Tomato___Target_Spot                                         1827\n",
              "Tomato___Tomato_Yellow_Leaf_Curl_Virus                       1961\n",
              "Tomato___Tomato_mosaic_virus                                 1790\n",
              "Tomato___healthy                                             1926\n",
              "Apple___Apple_scab                                           2016\n",
              "Apple___Black_rot                                            1987\n",
              "Apple___Cedar_apple_rust                                     1760\n",
              "Apple___healthy                                              2008\n",
              "Blueberry___healthy                                          1816\n",
              "Cherry_(including_sour)___healthy                            1826\n",
              "Cherry_(including_sour)___Powdery_mildew                     1683\n",
              "Corn_(maize)___Cercospora_leaf_spot Gray_leaf_spot           1642\n",
              "Corn_(maize)___Common_rust_                                  1907\n",
              "Corn_(maize)___healthy                                       1859\n",
              "Corn_(maize)___Northern_Leaf_Blight                          1908"
            ],
            "text/html": [
              "\n",
              "  <div id=\"df-275cff03-bfe0-4f13-a2ce-226beced658a\">\n",
              "    <div class=\"colab-df-container\">\n",
              "      <div>\n",
              "<style scoped>\n",
              "    .dataframe tbody tr th:only-of-type {\n",
              "        vertical-align: middle;\n",
              "    }\n",
              "\n",
              "    .dataframe tbody tr th {\n",
              "        vertical-align: top;\n",
              "    }\n",
              "\n",
              "    .dataframe thead th {\n",
              "        text-align: right;\n",
              "    }\n",
              "</style>\n",
              "<table border=\"1\" class=\"dataframe\">\n",
              "  <thead>\n",
              "    <tr style=\"text-align: right;\">\n",
              "      <th></th>\n",
              "      <th>no. of images</th>\n",
              "    </tr>\n",
              "  </thead>\n",
              "  <tbody>\n",
              "    <tr>\n",
              "      <th>Grape___Black_rot</th>\n",
              "      <td>1888</td>\n",
              "    </tr>\n",
              "    <tr>\n",
              "      <th>Grape___Esca_(Black_Measles)</th>\n",
              "      <td>1920</td>\n",
              "    </tr>\n",
              "    <tr>\n",
              "      <th>Grape___Leaf_blight_(Isariopsis_Leaf_Spot)</th>\n",
              "      <td>1722</td>\n",
              "    </tr>\n",
              "    <tr>\n",
              "      <th>Grape___healthy</th>\n",
              "      <td>1692</td>\n",
              "    </tr>\n",
              "    <tr>\n",
              "      <th>Orange___Haunglongbing_(Citrus_greening)</th>\n",
              "      <td>2010</td>\n",
              "    </tr>\n",
              "    <tr>\n",
              "      <th>Peach___Bacterial_spot</th>\n",
              "      <td>1838</td>\n",
              "    </tr>\n",
              "    <tr>\n",
              "      <th>Peach___healthy</th>\n",
              "      <td>1728</td>\n",
              "    </tr>\n",
              "    <tr>\n",
              "      <th>Pepper,_bell___Bacterial_spot</th>\n",
              "      <td>1913</td>\n",
              "    </tr>\n",
              "    <tr>\n",
              "      <th>Pepper,_bell___healthy</th>\n",
              "      <td>1988</td>\n",
              "    </tr>\n",
              "    <tr>\n",
              "      <th>Potato___Early_blight</th>\n",
              "      <td>1939</td>\n",
              "    </tr>\n",
              "    <tr>\n",
              "      <th>Potato___Late_blight</th>\n",
              "      <td>1939</td>\n",
              "    </tr>\n",
              "    <tr>\n",
              "      <th>Potato___healthy</th>\n",
              "      <td>1824</td>\n",
              "    </tr>\n",
              "    <tr>\n",
              "      <th>Raspberry___healthy</th>\n",
              "      <td>1781</td>\n",
              "    </tr>\n",
              "    <tr>\n",
              "      <th>Soybean___healthy</th>\n",
              "      <td>2022</td>\n",
              "    </tr>\n",
              "    <tr>\n",
              "      <th>Squash___Powdery_mildew</th>\n",
              "      <td>1736</td>\n",
              "    </tr>\n",
              "    <tr>\n",
              "      <th>Strawberry___Leaf_scorch</th>\n",
              "      <td>1774</td>\n",
              "    </tr>\n",
              "    <tr>\n",
              "      <th>Strawberry___healthy</th>\n",
              "      <td>1824</td>\n",
              "    </tr>\n",
              "    <tr>\n",
              "      <th>Tomato___Bacterial_spot</th>\n",
              "      <td>1702</td>\n",
              "    </tr>\n",
              "    <tr>\n",
              "      <th>Tomato___Early_blight</th>\n",
              "      <td>1920</td>\n",
              "    </tr>\n",
              "    <tr>\n",
              "      <th>Tomato___Late_blight</th>\n",
              "      <td>1997</td>\n",
              "    </tr>\n",
              "    <tr>\n",
              "      <th>Tomato___Leaf_Mold</th>\n",
              "      <td>1986</td>\n",
              "    </tr>\n",
              "    <tr>\n",
              "      <th>Tomato___Septoria_leaf_spot</th>\n",
              "      <td>1745</td>\n",
              "    </tr>\n",
              "    <tr>\n",
              "      <th>Tomato___Spider_mites Two-spotted_spider_mite</th>\n",
              "      <td>1741</td>\n",
              "    </tr>\n",
              "    <tr>\n",
              "      <th>Tomato___Target_Spot</th>\n",
              "      <td>1827</td>\n",
              "    </tr>\n",
              "    <tr>\n",
              "      <th>Tomato___Tomato_Yellow_Leaf_Curl_Virus</th>\n",
              "      <td>1961</td>\n",
              "    </tr>\n",
              "    <tr>\n",
              "      <th>Tomato___Tomato_mosaic_virus</th>\n",
              "      <td>1790</td>\n",
              "    </tr>\n",
              "    <tr>\n",
              "      <th>Tomato___healthy</th>\n",
              "      <td>1926</td>\n",
              "    </tr>\n",
              "    <tr>\n",
              "      <th>Apple___Apple_scab</th>\n",
              "      <td>2016</td>\n",
              "    </tr>\n",
              "    <tr>\n",
              "      <th>Apple___Black_rot</th>\n",
              "      <td>1987</td>\n",
              "    </tr>\n",
              "    <tr>\n",
              "      <th>Apple___Cedar_apple_rust</th>\n",
              "      <td>1760</td>\n",
              "    </tr>\n",
              "    <tr>\n",
              "      <th>Apple___healthy</th>\n",
              "      <td>2008</td>\n",
              "    </tr>\n",
              "    <tr>\n",
              "      <th>Blueberry___healthy</th>\n",
              "      <td>1816</td>\n",
              "    </tr>\n",
              "    <tr>\n",
              "      <th>Cherry_(including_sour)___healthy</th>\n",
              "      <td>1826</td>\n",
              "    </tr>\n",
              "    <tr>\n",
              "      <th>Cherry_(including_sour)___Powdery_mildew</th>\n",
              "      <td>1683</td>\n",
              "    </tr>\n",
              "    <tr>\n",
              "      <th>Corn_(maize)___Cercospora_leaf_spot Gray_leaf_spot</th>\n",
              "      <td>1642</td>\n",
              "    </tr>\n",
              "    <tr>\n",
              "      <th>Corn_(maize)___Common_rust_</th>\n",
              "      <td>1907</td>\n",
              "    </tr>\n",
              "    <tr>\n",
              "      <th>Corn_(maize)___healthy</th>\n",
              "      <td>1859</td>\n",
              "    </tr>\n",
              "    <tr>\n",
              "      <th>Corn_(maize)___Northern_Leaf_Blight</th>\n",
              "      <td>1908</td>\n",
              "    </tr>\n",
              "  </tbody>\n",
              "</table>\n",
              "</div>\n",
              "      <button class=\"colab-df-convert\" onclick=\"convertToInteractive('df-275cff03-bfe0-4f13-a2ce-226beced658a')\"\n",
              "              title=\"Convert this dataframe to an interactive table.\"\n",
              "              style=\"display:none;\">\n",
              "        \n",
              "  <svg xmlns=\"http://www.w3.org/2000/svg\" height=\"24px\"viewBox=\"0 0 24 24\"\n",
              "       width=\"24px\">\n",
              "    <path d=\"M0 0h24v24H0V0z\" fill=\"none\"/>\n",
              "    <path d=\"M18.56 5.44l.94 2.06.94-2.06 2.06-.94-2.06-.94-.94-2.06-.94 2.06-2.06.94zm-11 1L8.5 8.5l.94-2.06 2.06-.94-2.06-.94L8.5 2.5l-.94 2.06-2.06.94zm10 10l.94 2.06.94-2.06 2.06-.94-2.06-.94-.94-2.06-.94 2.06-2.06.94z\"/><path d=\"M17.41 7.96l-1.37-1.37c-.4-.4-.92-.59-1.43-.59-.52 0-1.04.2-1.43.59L10.3 9.45l-7.72 7.72c-.78.78-.78 2.05 0 2.83L4 21.41c.39.39.9.59 1.41.59.51 0 1.02-.2 1.41-.59l7.78-7.78 2.81-2.81c.8-.78.8-2.07 0-2.86zM5.41 20L4 18.59l7.72-7.72 1.47 1.35L5.41 20z\"/>\n",
              "  </svg>\n",
              "      </button>\n",
              "      \n",
              "  <style>\n",
              "    .colab-df-container {\n",
              "      display:flex;\n",
              "      flex-wrap:wrap;\n",
              "      gap: 12px;\n",
              "    }\n",
              "\n",
              "    .colab-df-convert {\n",
              "      background-color: #E8F0FE;\n",
              "      border: none;\n",
              "      border-radius: 50%;\n",
              "      cursor: pointer;\n",
              "      display: none;\n",
              "      fill: #1967D2;\n",
              "      height: 32px;\n",
              "      padding: 0 0 0 0;\n",
              "      width: 32px;\n",
              "    }\n",
              "\n",
              "    .colab-df-convert:hover {\n",
              "      background-color: #E2EBFA;\n",
              "      box-shadow: 0px 1px 2px rgba(60, 64, 67, 0.3), 0px 1px 3px 1px rgba(60, 64, 67, 0.15);\n",
              "      fill: #174EA6;\n",
              "    }\n",
              "\n",
              "    [theme=dark] .colab-df-convert {\n",
              "      background-color: #3B4455;\n",
              "      fill: #D2E3FC;\n",
              "    }\n",
              "\n",
              "    [theme=dark] .colab-df-convert:hover {\n",
              "      background-color: #434B5C;\n",
              "      box-shadow: 0px 1px 3px 1px rgba(0, 0, 0, 0.15);\n",
              "      filter: drop-shadow(0px 1px 2px rgba(0, 0, 0, 0.3));\n",
              "      fill: #FFFFFF;\n",
              "    }\n",
              "  </style>\n",
              "\n",
              "      <script>\n",
              "        const buttonEl =\n",
              "          document.querySelector('#df-275cff03-bfe0-4f13-a2ce-226beced658a button.colab-df-convert');\n",
              "        buttonEl.style.display =\n",
              "          google.colab.kernel.accessAllowed ? 'block' : 'none';\n",
              "\n",
              "        async function convertToInteractive(key) {\n",
              "          const element = document.querySelector('#df-275cff03-bfe0-4f13-a2ce-226beced658a');\n",
              "          const dataTable =\n",
              "            await google.colab.kernel.invokeFunction('convertToInteractive',\n",
              "                                                     [key], {});\n",
              "          if (!dataTable) return;\n",
              "\n",
              "          const docLinkHtml = 'Like what you see? Visit the ' +\n",
              "            '<a target=\"_blank\" href=https://colab.research.google.com/notebooks/data_table.ipynb>data table notebook</a>'\n",
              "            + ' to learn more about interactive tables.';\n",
              "          element.innerHTML = '';\n",
              "          dataTable['output_type'] = 'display_data';\n",
              "          await google.colab.output.renderOutput(dataTable, element);\n",
              "          const docLink = document.createElement('div');\n",
              "          docLink.innerHTML = docLinkHtml;\n",
              "          element.appendChild(docLink);\n",
              "        }\n",
              "      </script>\n",
              "    </div>\n",
              "  </div>\n",
              "  "
            ]
          },
          "metadata": {},
          "execution_count": 12
        }
      ],
      "source": [
        "# Number of images for each disease\n",
        "nums = {}\n",
        "for disease in diseases:\n",
        "    nums[disease] = len(os.listdir(train_dir + '/' + disease))\n",
        "\n",
        "img_per_class = pd.DataFrame(nums.values(), index=nums.keys(), columns=[\"no. of images\"])\n",
        "img_per_class"
      ]
    },
    {
      "cell_type": "markdown",
      "metadata": {
        "papermill": {
          "duration": 0.090681,
          "end_time": "2020-12-15T06:53:04.148485",
          "exception": false,
          "start_time": "2020-12-15T06:53:04.057804",
          "status": "completed"
        },
        "tags": [],
        "id": "7eelXcZcaHhi"
      },
      "source": [
        "#### Visualizing the above information on a graph"
      ]
    },
    {
      "cell_type": "code",
      "execution_count": 13,
      "metadata": {
        "execution": {
          "iopub.execute_input": "2020-12-15T06:53:04.334832Z",
          "iopub.status.busy": "2020-12-15T06:53:04.333992Z",
          "iopub.status.idle": "2020-12-15T06:53:04.860737Z",
          "shell.execute_reply": "2020-12-15T06:53:04.859673Z"
        },
        "papermill": {
          "duration": 0.623297,
          "end_time": "2020-12-15T06:53:04.860887",
          "exception": false,
          "start_time": "2020-12-15T06:53:04.237590",
          "status": "completed"
        },
        "tags": [],
        "colab": {
          "base_uri": "https://localhost:8080/",
          "height": 603
        },
        "id": "n4chBYfGaHhi",
        "outputId": "191d3d1d-fea1-4aeb-bbeb-ac26d1630a96"
      },
      "outputs": [
        {
          "output_type": "execute_result",
          "data": {
            "text/plain": [
              "Text(0.5, 1.0, 'Images per each class of plant disease')"
            ]
          },
          "metadata": {},
          "execution_count": 13
        },
        {
          "output_type": "display_data",
          "data": {
            "text/plain": [
              "<Figure size 3000x700 with 1 Axes>"
            ],
            "image/png": "[encoded data removed]"
          },
          "metadata": {}
        }
      ],
      "source": [
        "# plotting number of images available for each disease\n",
        "index = [n for n in range(38)]\n",
        "plt.figure(figsize=(30, 7))\n",
        "plt.bar(index, [n for n in nums.values()], width=0.3)\n",
        "plt.xlabel('Plants/Diseases', fontsize=14)\n",
        "plt.ylabel('No of images available', fontsize=14)\n",
        "plt.xticks(index, diseases, fontsize=5, rotation=90)\n",
        "plt.title('Images per each class of plant disease')"
      ]
    },
    {
      "cell_type": "markdown",
      "metadata": {
        "papermill": {
          "duration": 0.068183,
          "end_time": "2020-12-15T06:53:04.997832",
          "exception": false,
          "start_time": "2020-12-15T06:53:04.929649",
          "status": "completed"
        },
        "tags": [],
        "id": "KlFkJYwHaHhi"
      },
      "source": [
        "We can see that the dataset is almost balanced for all classes, so we are good to go forward"
      ]
    },
    {
      "cell_type": "markdown",
      "metadata": {
        "papermill": {
          "duration": 0.073886,
          "end_time": "2020-12-15T06:53:05.152902",
          "exception": false,
          "start_time": "2020-12-15T06:53:05.079016",
          "status": "completed"
        },
        "tags": [],
        "id": "4tJMOpXAaHhj"
      },
      "source": [
        "#### Images available for training"
      ]
    },
    {
      "cell_type": "code",
      "execution_count": 14,
      "metadata": {
        "execution": {
          "iopub.execute_input": "2020-12-15T06:53:05.285106Z",
          "iopub.status.busy": "2020-12-15T06:53:05.284437Z",
          "iopub.status.idle": "2020-12-15T06:53:05.287876Z",
          "shell.execute_reply": "2020-12-15T06:53:05.288406Z"
        },
        "papermill": {
          "duration": 0.07225,
          "end_time": "2020-12-15T06:53:05.288530",
          "exception": false,
          "start_time": "2020-12-15T06:53:05.216280",
          "status": "completed"
        },
        "tags": [],
        "colab": {
          "base_uri": "https://localhost:8080/"
        },
        "id": "Gba9B4u2aHhj",
        "outputId": "bc686356-1c83-4602-e3e7-a0f3dd466830"
      },
      "outputs": [
        {
          "output_type": "stream",
          "name": "stdout",
          "text": [
            "There are 70545 images for training\n"
          ]
        }
      ],
      "source": [
        "n_train = 0\n",
        "for value in nums.values():\n",
        "    n_train += value\n",
        "print(f\"There are {n_train} images for training\")"
      ]
    },
    {
      "cell_type": "code",
      "source": [
        "train_ds_dir = '/content/drive/MyDrive/UG Final Year Project/New Plant Diseases Dataset(Augmented)/train'\n",
        "val_ds_dir = '/content/drive/MyDrive/UG Final Year Project/New Plant Diseases Dataset(Augmented)/valid'"
      ],
      "metadata": {
        "id": "z61dGMNAXt1O"
      },
      "execution_count": 24,
      "outputs": []
    },
    {
      "cell_type": "code",
      "source": [
        "train_ds = tf.keras.utils.image_dataset_from_directory(\n",
        "  train_ds_dir,\n",
        "  validation_split=0.2,\n",
        "  subset=\"training\",\n",
        "  seed=123,\n",
        "  image_size=(256, 256),\n",
        "  batch_size=64)"
      ],
      "metadata": {
        "colab": {
          "base_uri": "https://localhost:8080/"
        },
        "id": "11-gazPqX7fK",
        "outputId": "682dc55a-e8c6-45ba-c00e-06ea3e6155f2"
      },
      "execution_count": 25,
      "outputs": [
        {
          "output_type": "stream",
          "name": "stdout",
          "text": [
            "Found 70545 files belonging to 38 classes.\n",
            "Using 56436 files for training.\n"
          ]
        }
      ]
    },
    {
      "cell_type": "code",
      "source": [
        "val_ds = tf.keras.utils.image_dataset_from_directory(\n",
        "  val_ds_dir,\n",
        "  validation_split=0.2,\n",
        "  subset=\"validation\",\n",
        "  seed=123,\n",
        "  image_size=(256, 256),\n",
        "  batch_size=64)"
      ],
      "metadata": {
        "colab": {
          "base_uri": "https://localhost:8080/"
        },
        "id": "spHBjopCX6zE",
        "outputId": "41e94692-d97a-421e-8d82-397d71877af2"
      },
      "execution_count": 26,
      "outputs": [
        {
          "output_type": "stream",
          "name": "stdout",
          "text": [
            "Found 17572 files belonging to 38 classes.\n",
            "Using 3514 files for validation.\n"
          ]
        }
      ]
    },
    {
      "cell_type": "markdown",
      "metadata": {
        "papermill": {
          "duration": 0.064118,
          "end_time": "2020-12-15T06:53:05.416780",
          "exception": false,
          "start_time": "2020-12-15T06:53:05.352662",
          "status": "completed"
        },
        "tags": [],
        "id": "ftPLRKXbaHhj"
      },
      "source": [
        "#  Data Preparation for training and model training"
      ]
    },
    {
      "cell_type": "code",
      "source": [
        "import tensorflow_hub as hub\n",
        "import tensorflow as tf"
      ],
      "metadata": {
        "id": "sFkztQ5fSpHv"
      },
      "execution_count": 20,
      "outputs": []
    },
    {
      "cell_type": "code",
      "source": [
        "resnet = 'https://tfhub.dev/google/imagenet/resnet_v1_50/classification/5'"
      ],
      "metadata": {
        "id": "mlLzkt0JSG6t"
      },
      "execution_count": 16,
      "outputs": []
    },
    {
      "cell_type": "code",
      "source": [
        "feature_extractor = hub.KerasLayer(\n",
        "    resnet,\n",
        "    input_shape= (256,256,3),\n",
        "    trainable=False\n",
        ")"
      ],
      "metadata": {
        "id": "NmIsLWWISVqy"
      },
      "execution_count": 19,
      "outputs": []
    },
    {
      "cell_type": "code",
      "source": [
        "model = tf.keras.Sequential([\n",
        "    feature_extractor,\n",
        "    tf.keras.layers.Dense(38)\n",
        "])\n",
        "\n",
        "model.summary()"
      ],
      "metadata": {
        "colab": {
          "base_uri": "https://localhost:8080/"
        },
        "id": "zYW7GiU4Useh",
        "outputId": "4baab732-9338-4e35-b16d-91f96f6ff513"
      },
      "execution_count": 22,
      "outputs": [
        {
          "output_type": "stream",
          "name": "stdout",
          "text": [
            "Model: \"sequential_1\"\n",
            "_________________________________________________________________\n",
            " Layer (type)                Output Shape              Param #   \n",
            "=================================================================\n",
            " keras_layer (KerasLayer)    (None, 1001)              25612201  \n",
            "                                                                 \n",
            " dense_1 (Dense)             (None, 38)                38076     \n",
            "                                                                 \n",
            "=================================================================\n",
            "Total params: 25,650,277\n",
            "Trainable params: 38,076\n",
            "Non-trainable params: 25,612,201\n",
            "_________________________________________________________________\n"
          ]
        }
      ]
    },
    {
      "cell_type": "code",
      "source": [
        "model.compile(\n",
        "  optimizer=tf.keras.optimizers.Adam(),\n",
        "  loss=tf.keras.losses.SparseCategoricalCrossentropy(from_logits=True),\n",
        "  metrics=['acc'])"
      ],
      "metadata": {
        "id": "YKBBSyn4WMbB"
      },
      "execution_count": 23,
      "outputs": []
    },
    {
      "cell_type": "code",
      "source": [
        "model.fit(train_ds, validation_data = val_ds, epochs = 20)"
      ],
      "metadata": {
        "colab": {
          "base_uri": "https://localhost:8080/"
        },
        "id": "38_OtmaKWQtO",
        "outputId": "f36a8787-71d9-44e9-84d5-6905eaaf8f69"
      },
      "execution_count": null,
      "outputs": [
        {
          "output_type": "stream",
          "name": "stdout",
          "text": [
            "Epoch 1/20\n",
            "518/882 [================>.............] - ETA: 2:09:49 - loss: 334.6799 - acc: 0.1535"
          ]
        }
      ]
    },
    {
      "cell_type": "code",
      "source": [
        "model.predict(val_ds)"
      ],
      "metadata": {
        "id": "BlLNHznMpqn1"
      },
      "execution_count": null,
      "outputs": []
    }
  ],
  "metadata": {
    "kernelspec": {
      "display_name": "Python 3",
      "language": "python",
      "name": "python3"
    },
    "language_info": {
      "codemirror_mode": {
        "name": "ipython",
        "version": 3
      },
      "file_extension": ".py",
      "mimetype": "text/x-python",
      "name": "python",
      "nbconvert_exporter": "python",
      "pygments_lexer": "ipython3",
      "version": "3.7.6"
    },
    "papermill": {
      "duration": 1424.697889,
      "end_time": "2020-12-15T07:16:24.493770",
      "environment_variables": {},
      "exception": null,
      "input_path": "__notebook__.ipynb",
      "output_path": "__notebook__.ipynb",
      "parameters": {},
      "start_time": "2020-12-15T06:52:39.795881",
      "version": "2.1.0"
    },
    "colab": {
      "provenance": []
    },
    "accelerator": "GPU",
    "gpuClass": "standard"
  },
  "nbformat": 4,
  "nbformat_minor": 0
}